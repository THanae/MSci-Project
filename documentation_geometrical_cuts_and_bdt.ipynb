{
 "cells": [
  {
   "cell_type": "markdown",
   "metadata": {
    "collapsed": true,
    "pycharm": {
     "name": "#%% md\n"
    }
   },
   "source": [
    "# $\\Lambda_b \\rightarrow pK\\mu\\tau$ documentation: geometrical cuts and BDT\n",
    "\n",
    "We see when plotting the B mass that there is a problem in the $\\tau$ reconstruction: we see masses which can go up to several hundreds of thousands of MeVs.\n",
    "This can be due to muons being close to the plane used in the data reconstruction, or to large errors leading the $\\tau$ to be at random places, which might not be valid.\n",
    "Below, we explore geometrical cuts which help us solve the problem, then we go on to apply a BDT on the data in order to remove background."
   ]
  },
  {
   "cell_type": "code",
   "execution_count": 1,
   "outputs": [
    {
     "name": "stdout",
     "text": [
      "RangeIndex(start=0, stop=148967, step=1)\n",
      "148967\n138036\n",
      "118218\n104944\n102866\nTrue id tests done\n",
      "79252\n78377\n77076\n",
      "76132\n34921\n",
      "34921\n34921\njpsi events 239\njpsi events from Lb 0\ncomp 0 back 22\n",
      "33876\n0.5878358429288456\n0.46495423678771775\n0.5021545363319757\n0.3861047163685733\n0.544987601842012\n0.3828016643550624",
      "\n0.36728971962616824\n0.3276699029126214\n945\ndata frame length: 945, FD 90th percentile: 50.85352778177634\n"
     ],
     "output_type": "stream"
    },
    {
     "data": {
      "text/plain": "<Figure size 432x288 with 1 Axes>",
      "image/png": "[encoded data removed]"
     },
     "metadata": {
      "needs_background": "light"
     },
     "output_type": "display_data"
    }
   ],
   "source": [
    "import matplotlib.pyplot as plt\n",
    "import numpy as np\n",
    "import seaborn as sns\n",
    "from background_reduction.b_MC_reduction import b_cleaning\n",
    "from data.data_loader import load_data\n",
    "from get_vertex import obtain_lb_line_of_flight, transverse_momentum, line_plane_intersection, tau_momentum_mass\n",
    "from masses import get_mass\n",
    "\n",
    "data_frame_b = load_data(df_name='B_MC')\n",
    "data_frame_b.dropna(inplace=True)\n",
    "data_frame_b = b_cleaning(data_frame_b)\n",
    "data_frame_b = data_frame_b.reset_index(drop=True)\n",
    "data_frame_b = obtain_lb_line_of_flight(data_frame_b)\n",
    "data_frame_b = transverse_momentum(data_frame_b)\n",
    "data_frame_b = line_plane_intersection(data_frame_b)\n",
    "data_frame_b = tau_momentum_mass(data_frame_b)\n",
    "\n",
    "particles_associations = [['Kminus_P', 'K'], ['proton_P', 'pi'], ['mu1_P', 'mu'], ['tau_P', 'tau']]\n",
    "data_frame_b['b_mass'] = get_mass(data_frame=data_frame_b, particles_associations=particles_associations)\n",
    "plt.hist(data_frame_b['b_mass'], bins='auto', range=[0, 100000])\n",
    "plt.show()\n",
    "data_frame_b['B mass region'] = 'middle'\n",
    "data_frame_b.loc[data_frame_b['b_mass'] < 8000, 'B mass region'] = 'low'\n",
    "data_frame_b.loc[data_frame_b['b_mass'] > 28000, 'B mass region'] = 'high'"
   ],
   "metadata": {
    "collapsed": false,
    "pycharm": {
     "name": "#%%\n",
     "is_executing": false
    }
   }
  },
  {
   "cell_type": "markdown",
   "source": [
    "## Geometrical cuts\n",
    "Several cuts were applied based on the geometry of the problem, after having first been tested on the B Monte Carlo data.\n",
    "This allowed us to avoid huge $pK\\mu\\tau$ mass reconstructions.\n",
    "\n",
    "### $\\tau$ and $pK\\mu$ alignment\n",
    "We expect the $\\tau$ and the $pK\\mu$ to be on opposite sides of the $\\Lambda_b$ line of flight.\n",
    "If this was not the case, momentum could not be conserved. \n",
    "As such, if we observe from the reconstruction of the $\\tau$ direction that the $\\tau$ and $pK\\mu$ are on the same side of the $\\Lambda_b$ line of flight (aka they are `aligned`), we can deduce that our reconstruction was wrong.\n",
    "This reconstruction can be wrong for several reasons, one of those being that the muon is at a low angle to the $\\Lambda_b$/$pK\\mu$ plane, yielding false and improbable results.\n",
    "We see that bad reconstructions mostly lead to high $pK\\mu\\tau$ masses, but some seemingly fine events at low $pK\\mu\\tau$ masses also had bad $\\tau$ direction reconstrutions.\n",
    "Hence only events with the correct `alignment` were kept."
   ],
   "metadata": {
    "collapsed": false,
    "pycharm": {
     "name": "#%% md\n"
    }
   }
  },
  {
   "cell_type": "code",
   "execution_count": 2,
   "outputs": [
    {
     "name": "stdout",
     "text": [
      "(array([-1.,  1.]), array([332, 613], dtype=int64))\n"
     ],
     "output_type": "stream"
    },
    {
     "data": {
      "text/plain": "<Figure size 259.25x180 with 2 Axes>",
      "image/png": "[encoded data removed]"
     },
     "metadata": {
      "needs_background": "light"
     },
     "output_type": "display_data"
    }
   ],
   "source": [
    "tau_decay_points = data_frame_b['tau_decay_point'].values\n",
    "pkmu_endvertex_point = data_frame_b[['pKmu_ENDVERTEX_X', 'pKmu_ENDVERTEX_Y', 'pKmu_ENDVERTEX_Z']].values.tolist()\n",
    "data_frame_b['_tau_dir_x'] = [(tau_decay_points[i] - pkmu_endvertex_point[i])[0] for i in range(len(tau_decay_points))]\n",
    "data_frame_b['_tau_dir_y'] = [(tau_decay_points[i] - pkmu_endvertex_point[i])[1] for i in range(len(tau_decay_points))]\n",
    "data_frame_b['_tau_dir_z'] = [(tau_decay_points[i] - pkmu_endvertex_point[i])[2] for i in range(len(tau_decay_points))]\n",
    "_tau_dir_vars = ['_tau_dir_x', '_tau_dir_y', '_tau_dir_z']\n",
    "_tau_direction = data_frame_b.loc[:, _tau_dir_vars]\n",
    "data_frame_b[_tau_dir_vars] = _tau_direction.divide((_tau_direction ** 2).sum(axis=1) ** 0.5, axis='rows')\n",
    "_tau_direction = data_frame_b.loc[:, _tau_dir_vars]\n",
    "_pKmu_dir_vars = ['_pKmu_dir_x', '_pKmu_dir_y', '_pKmu_dir_z']\n",
    "_pKmu_direction = data_frame_b.loc[:, ['pKmu_PX', 'pKmu_PY', 'pKmu_PZ']]\n",
    "data_frame_b[_pKmu_dir_vars] = _pKmu_direction.divide((_pKmu_direction ** 2).sum(axis=1) ** 0.5, axis='rows')\n",
    "_pKmu_direction = data_frame_b.loc[:, _pKmu_dir_vars]\n",
    "_vectors_array_dtype = data_frame_b.loc[:, 'vectors']\n",
    "_vectors_array = np.vstack(_vectors_array_dtype.to_numpy())\n",
    "data_frame_b.loc[:, '_lb_dir_x'] = _vectors_array[:, 0]\n",
    "data_frame_b.loc[:, '_lb_dir_y'] = _vectors_array[:, 1]\n",
    "data_frame_b.loc[:, '_lb_dir_z'] = _vectors_array[:, 2]\n",
    "_lb_dir_vars = ['_lb_dir_x', '_lb_dir_y', '_lb_dir_z']\n",
    "_lb_direction = data_frame_b.loc[:, ['_lb_dir_x', '_lb_dir_y', '_lb_dir_z']]\n",
    "data_frame_b[_lb_dir_vars] = _lb_direction.divide((_lb_direction ** 2).sum(axis=1) ** 0.5, axis='rows')\n",
    "_lb_direction = data_frame_b.loc[:, _lb_dir_vars]\n",
    "\n",
    "__tau_dir = data_frame_b.loc[:, _tau_dir_vars]\n",
    "__pKmu_dir = data_frame_b.loc[:, _pKmu_dir_vars]\n",
    "__lb_dir = data_frame_b.loc[:, _lb_dir_vars]\n",
    "\n",
    "__lb_dir_array = __lb_dir.to_numpy()\n",
    "__pKmu_dir_array = __pKmu_dir.to_numpy()\n",
    "\n",
    "_pKmu_longitudinal = __lb_dir_array * (__pKmu_dir_array * __lb_dir_array).sum(axis=1).reshape((-1, 1))\n",
    "ideal_opposite_dir = -(__pKmu_dir_array - _pKmu_longitudinal)\n",
    "alignment = (ideal_opposite_dir * __tau_dir.to_numpy()).sum(axis=1)\n",
    "alignment = np.sign(alignment)\n",
    "print(np.unique(alignment, return_counts=True))\n",
    "data_frame_b['alignment'] = alignment\n",
    "\n",
    "sns.pairplot(data=data_frame_b, x_vars=['alignment'], y_vars=['alignment'], hue='B mass region')\n",
    "plt.legend()\n",
    "plt.show()\n",
    "data_frame = data_frame_b[data_frame_b['alignment'] == 1]"
   ],
   "metadata": {
    "collapsed": false,
    "pycharm": {
     "name": "#%%\n",
     "is_executing": false
    }
   }
  },
  {
   "cell_type": "markdown",
   "source": [
    "### Angle between tauMu direction and $\\Lambda_b$ direction\n",
    "We see a huge difference in angle between the tauMu direction and $\\Lambda_b$ direction for high and low $\\Lambda_b$ masses.\n",
    "Again, if the muon is actually in the plane, we expect potential nonsensical results with the $\\tau$ going backwards.\n",
    "Hence, events with an angle higher than 90 degrees were removed from the data."
   ],
   "metadata": {
    "collapsed": false
   }
  },
  {
   "cell_type": "code",
   "execution_count": 12,
   "outputs": [
    {
     "data": {
      "text/plain": "<Figure size 259.25x180 with 2 Axes>",
      "image/png": "[encoded data removed]"
     },
     "metadata": {
      "needs_background": "light"
     },
     "output_type": "display_data"
    }
   ],
   "source": [
    "angles = []\n",
    "for i in range(len(data_frame_b)):\n",
    "    temp_series = data_frame_b.loc[i]\n",
    "    end_xyz = [temp_series['pKmu_ENDVERTEX_X'], temp_series['pKmu_ENDVERTEX_Y'], temp_series['pKmu_ENDVERTEX_Z']]\n",
    "    tau_vector = temp_series['tau_decay_point'] - end_xyz\n",
    "    vector = temp_series['vectors']\n",
    "    angle = np.arccos(np.dot(tau_vector, vector) / (np.linalg.norm(tau_vector) * np.linalg.norm(vector)))\n",
    "    angles.append(angle)\n",
    "    \n",
    "data_frame_b['angles'] = angles\n",
    "sns.pairplot(data=data_frame_b, x_vars=['angles'], y_vars=['angles'], hue='B mass region')\n",
    "plt.legend()\n",
    "sns.catplot(\n",
    "    x=\"B mass region\", y=\"angles\", kind=\"boxen\", data=data_frame_b\n",
    ")\n",
    "plt.show()\n",
    "data_frame = data_frame[data_frame['angles'] < np.pi / 2]"
   ],
   "metadata": {
    "collapsed": false,
    "pycharm": {
     "name": "#%%\n",
     "is_executing": false
    }
   }
  },
  {
   "cell_type": "markdown",
   "source": [
    "## BDT\n",
    "Background cleaning which did did not involve PID cuts, cleaning cuts or mass cuts was then optimised with a BDT.\n",
    "The steps included:\n",
    "1. Applying the cleaning to the B Monte Carlo data, using that as a signal and defining percentiles beyond which the data would be considered as background\n",
    "2. Applying the same cleaning (plus PID cleaning) to the $\\Lambda_b$ data and extracting background\n",
    "3. Insert the cleaned B data and cleaned background to determine optimal cuts\n",
    "\n",
    "\n"
   ],
   "metadata": {
    "collapsed": false
   }
  }
 ],
 "metadata": {
  "kernelspec": {
   "display_name": "Python 3",
   "language": "python",
   "name": "python3"
  },
  "language_info": {
   "codemirror_mode": {
    "name": "ipython",
    "version": 2
   },
   "file_extension": ".py",
   "mimetype": "text/x-python",
   "name": "python",
   "nbconvert_exporter": "python",
   "pygments_lexer": "ipython2",
   "version": "2.7.6"
  },
  "pycharm": {
   "stem_cell": {
    "cell_type": "raw",
    "source": [],
    "metadata": {
     "collapsed": false
    }
   }
  }
 },
 "nbformat": 4,
 "nbformat_minor": 0
}