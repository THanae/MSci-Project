{
 "cells": [
  {
   "cell_type": "markdown",
   "metadata": {
    "collapsed": true,
    "pycharm": {
     "name": "#%% md\n"
    }
   },
   "source": [
    "# $\\Lambda_b \\rightarrow pK\\mu\\tau$ documentation: geometrical cuts and BDT\n",
    "\n",
    "We see when plotting the B mass that there is a problem in the $\\tau$ reconstruction: we see masses which can go up to several hundreds of thousands of MeVs.\n",
    "This can be due to muons being close to the plane used in the data reconstruction, or to large errors leading the $\\tau$ to be at random places, which might not be valid.\n",
    "Below, we explore geometrical cuts which help us solve the problem, then we go on to apply a BDT on the data in order to remove background."
   ]
  },
  {
   "cell_type": "code",
   "execution_count": 3,
   "outputs": [
    {
     "name": "stdout",
     "text": [
      "RangeIndex(start=0, stop=148967, step=1)\n",
      "148967\n138036\n118218\n",
      "104944\n",
      "102866\nTrue id tests done\n79252\n78377\n77076\n",
      "76132\n",
      "34921\n34921\n34921\njpsi events 239\njpsi events from Lb 0\ncomp 0 back 22\n",
      "33876\n0.5878358429288456\n0.46495423678771775\n0.5021545363319757\n0.3861047163685733\n0.544987601842012\n",
      "0.3828016643550624\n0.36728971962616824\n0.3276699029126214\n945\ndata frame length: 945, FD 90th percentile: 50.85352778177634\n"
     ],
     "output_type": "stream"
    },
    {
     "data": {
      "text/plain": "<Figure size 432x288 with 1 Axes>",
      "image/png": "[encoded data removed]"
     },
     "metadata": {
      "needs_background": "light"
     },
     "output_type": "display_data"
    }
   ],
   "source": [
    "import matplotlib.pyplot as plt\n",
    "import numpy as np\n",
    "import seaborn as sns\n",
    "from background_reduction.b_MC_reduction import b_cleaning\n",
    "from background_reduction.data_reduction import reduce_background\n",
    "from data.data_loader import load_data\n",
    "from get_vertex import obtain_lb_line_of_flight, transverse_momentum, line_plane_intersection, tau_momentum_mass, \\\n",
    "    geometrical_cuts\n",
    "from masses import get_mass\n",
    "\n",
    "data_frame_b = load_data(df_name='B_MC')\n",
    "data_frame_b.dropna(inplace=True)\n",
    "data_frame_b = b_cleaning(data_frame_b)\n",
    "data_frame_b = data_frame_b.reset_index(drop=True)\n",
    "data_frame_b = obtain_lb_line_of_flight(data_frame_b)\n",
    "data_frame_b = transverse_momentum(data_frame_b)\n",
    "data_frame_b = line_plane_intersection(data_frame_b)\n",
    "data_frame_b = tau_momentum_mass(data_frame_b)\n",
    "\n",
    "particles_associations = [['Kminus_P', 'K'], ['proton_P', 'pi'], ['mu1_P', 'mu'], ['tau_P', 'tau']]\n",
    "data_frame_b['b_mass'] = get_mass(data_frame=data_frame_b, particles_associations=particles_associations)\n",
    "plt.hist(data_frame_b['b_mass'], bins='auto', range=[0, 100000])\n",
    "plt.show()\n",
    "data_frame_b['B mass region'] = 'middle'\n",
    "data_frame_b.loc[data_frame_b['b_mass'] < 8000, 'B mass region'] = 'low'\n",
    "data_frame_b.loc[data_frame_b['b_mass'] > 28000, 'B mass region'] = 'high'"
   ],
   "metadata": {
    "collapsed": false,
    "pycharm": {
     "name": "#%%\n",
     "is_executing": false
    }
   }
  },
  {
   "cell_type": "markdown",
   "source": [
    "## Geometrical cuts\n",
    "Several cuts were applied based on the geometry of the problem, after having first been tested on the B Monte Carlo data.\n",
    "This allowed us to avoid huge $pK\\mu\\tau$ mass reconstructions.\n",
    "\n",
    "### $\\tau$ and $pK\\mu$ alignment\n",
    "We expect the $\\tau$ and the $pK\\mu$ to be on opposite sides of the $\\Lambda_b$ line of flight.\n",
    "If this was not the case, momentum could not be conserved. \n",
    "As such, if we observe from the reconstruction of the $\\tau$ direction that the $\\tau$ and $pK\\mu$ are on the same side of the $\\Lambda_b$ line of flight (aka they are `aligned`), we can deduce that our reconstruction was wrong.\n",
    "This reconstruction can be wrong for several reasons, one of those being that the muon is at a low angle to the $\\Lambda_b$/$pK\\mu$ plane, yielding false and improbable results.\n",
    "We see that bad reconstructions mostly lead to high $pK\\mu\\tau$ masses, but some seemingly fine events at low $pK\\mu\\tau$ masses also had bad $\\tau$ direction reconstrutions.\n",
    "Hence only events with the correct `alignment` were kept."
   ],
   "metadata": {
    "collapsed": false,
    "pycharm": {
     "name": "#%% md\n"
    }
   }
  },
  {
   "cell_type": "code",
   "execution_count": 4,
   "outputs": [
    {
     "name": "stdout",
     "text": [
      "(array([-1.,  1.]), array([332, 613], dtype=int64))\n"
     ],
     "output_type": "stream"
    },
    {
     "data": {
      "text/plain": "<Figure size 259.25x180 with 2 Axes>",
      "image/png": "[encoded data removed]"
     },
     "metadata": {
      "needs_background": "light"
     },
     "output_type": "display_data"
    }
   ],
   "source": [
    "tau_decay_points = data_frame_b['tau_decay_point'].values\n",
    "pkmu_endvertex_point = data_frame_b[['pKmu_ENDVERTEX_X', 'pKmu_ENDVERTEX_Y', 'pKmu_ENDVERTEX_Z']].values.tolist()\n",
    "data_frame_b['_tau_dir_x'] = [(tau_decay_points[i] - pkmu_endvertex_point[i])[0] for i in range(len(tau_decay_points))]\n",
    "data_frame_b['_tau_dir_y'] = [(tau_decay_points[i] - pkmu_endvertex_point[i])[1] for i in range(len(tau_decay_points))]\n",
    "data_frame_b['_tau_dir_z'] = [(tau_decay_points[i] - pkmu_endvertex_point[i])[2] for i in range(len(tau_decay_points))]\n",
    "_tau_dir_vars = ['_tau_dir_x', '_tau_dir_y', '_tau_dir_z']\n",
    "_tau_direction = data_frame_b.loc[:, _tau_dir_vars]\n",
    "data_frame_b[_tau_dir_vars] = _tau_direction.divide((_tau_direction ** 2).sum(axis=1) ** 0.5, axis='rows')\n",
    "_tau_direction = data_frame_b.loc[:, _tau_dir_vars]\n",
    "_pKmu_dir_vars = ['_pKmu_dir_x', '_pKmu_dir_y', '_pKmu_dir_z']\n",
    "_pKmu_direction = data_frame_b.loc[:, ['pKmu_PX', 'pKmu_PY', 'pKmu_PZ']]\n",
    "data_frame_b[_pKmu_dir_vars] = _pKmu_direction.divide((_pKmu_direction ** 2).sum(axis=1) ** 0.5, axis='rows')\n",
    "_pKmu_direction = data_frame_b.loc[:, _pKmu_dir_vars]\n",
    "_vectors_array_dtype = data_frame_b.loc[:, 'vectors']\n",
    "_vectors_array = np.vstack(_vectors_array_dtype.to_numpy())\n",
    "data_frame_b.loc[:, '_lb_dir_x'] = _vectors_array[:, 0]\n",
    "data_frame_b.loc[:, '_lb_dir_y'] = _vectors_array[:, 1]\n",
    "data_frame_b.loc[:, '_lb_dir_z'] = _vectors_array[:, 2]\n",
    "_lb_dir_vars = ['_lb_dir_x', '_lb_dir_y', '_lb_dir_z']\n",
    "_lb_direction = data_frame_b.loc[:, ['_lb_dir_x', '_lb_dir_y', '_lb_dir_z']]\n",
    "data_frame_b[_lb_dir_vars] = _lb_direction.divide((_lb_direction ** 2).sum(axis=1) ** 0.5, axis='rows')\n",
    "_lb_direction = data_frame_b.loc[:, _lb_dir_vars]\n",
    "\n",
    "__tau_dir = data_frame_b.loc[:, _tau_dir_vars]\n",
    "__pKmu_dir = data_frame_b.loc[:, _pKmu_dir_vars]\n",
    "__lb_dir = data_frame_b.loc[:, _lb_dir_vars]\n",
    "\n",
    "__lb_dir_array = __lb_dir.to_numpy()\n",
    "__pKmu_dir_array = __pKmu_dir.to_numpy()\n",
    "\n",
    "_pKmu_longitudinal = __lb_dir_array * (__pKmu_dir_array * __lb_dir_array).sum(axis=1).reshape((-1, 1))\n",
    "ideal_opposite_dir = -(__pKmu_dir_array - _pKmu_longitudinal)\n",
    "alignment = (ideal_opposite_dir * __tau_dir.to_numpy()).sum(axis=1)\n",
    "alignment = np.sign(alignment)\n",
    "print(np.unique(alignment, return_counts=True))\n",
    "data_frame_b['alignment'] = alignment\n",
    "\n",
    "sns.pairplot(data=data_frame_b, x_vars=['alignment'], y_vars=['alignment'], hue='B mass region')\n",
    "plt.legend()\n",
    "plt.show()\n",
    "data_frame = data_frame_b[data_frame_b['alignment'] == 1]"
   ],
   "metadata": {
    "collapsed": false,
    "pycharm": {
     "name": "#%%\n",
     "is_executing": false
    }
   }
  },
  {
   "cell_type": "markdown",
   "source": [
    "### Angle between tauMu direction and $\\Lambda_b$ direction\n",
    "We see a huge difference in angle between the tauMu direction and $\\Lambda_b$ direction for high and low $\\Lambda_b$ masses.\n",
    "Again, if the muon is actually in the plane, we expect potential nonsensical results with the $\\tau$ going backwards.\n",
    "Hence, events with an angle higher than 90 degrees were removed from the data."
   ],
   "metadata": {
    "collapsed": false
   }
  },
  {
   "cell_type": "code",
   "execution_count": 5,
   "outputs": [
    {
     "data": {
      "text/plain": "<Figure size 259.25x180 with 2 Axes>",
      "image/png": "[encoded data removed]"
     },
     "metadata": {
      "needs_background": "light"
     },
     "output_type": "display_data"
    },
    {
     "data": {
      "text/plain": "<Figure size 360x360 with 1 Axes>",
      "image/png": "[encoded data removed]"
     },
     "metadata": {
      "needs_background": "light"
     },
     "output_type": "display_data"
    }
   ],
   "source": [
    "angles = []\n",
    "for i in range(len(data_frame_b)):\n",
    "    temp_series = data_frame_b.loc[i]\n",
    "    end_xyz = [temp_series['pKmu_ENDVERTEX_X'], temp_series['pKmu_ENDVERTEX_Y'], temp_series['pKmu_ENDVERTEX_Z']]\n",
    "    tau_vector = temp_series['tau_decay_point'] - end_xyz\n",
    "    vector = temp_series['vectors']\n",
    "    angle = np.arccos(np.dot(tau_vector, vector) / (np.linalg.norm(tau_vector) * np.linalg.norm(vector)))\n",
    "    angles.append(angle)\n",
    "    \n",
    "data_frame_b['angles'] = angles\n",
    "sns.pairplot(data=data_frame_b, x_vars=['angles'], y_vars=['angles'], hue='B mass region')\n",
    "plt.legend()\n",
    "sns.catplot(\n",
    "    x=\"B mass region\", y=\"angles\", kind=\"boxen\", data=data_frame_b\n",
    ")\n",
    "plt.show()\n",
    "data_frame = data_frame[data_frame['angles'] < np.pi / 2]"
   ],
   "metadata": {
    "collapsed": false,
    "pycharm": {
     "name": "#%%\n",
     "is_executing": false
    }
   }
  },
  {
   "cell_type": "markdown",
   "source": [
    "## BDT\n",
    "Background cleaning which did did not involve PID cuts, cleaning cuts or mass cuts was then optimised with a BDT.\n",
    "The steps included:\n",
    "1. Applying the cleaning to the B Monte Carlo data, using that as a signal and defining percentiles beyond which the data would be considered as background\n",
    "2. Applying the same cleaning (plus PID cleaning) to the $\\Lambda_b$ data and extracting background\n",
    "3. Insert the cleaned B data and cleaned background to determine optimal cuts\n",
    "\n",
    "### Loading and cleaning the data"
   ],
   "metadata": {
    "collapsed": false
   }
  },
  {
   "cell_type": "code",
   "execution_count": 16,
   "outputs": [
    {
     "name": "stdout",
     "text": [
      "RangeIndex(start=0, stop=1012436, step=1)\n",
      "cuts cleaned 50333\njpsi events 17279\njpsi events from Lb 6709\ncomp 6709 back 5021\nj/psi cleaning 31121\nPID cleaning 10890\n",
      "mu1_isMuon cleaning 10890\ntauMu_isMuon cleaning 10890\n",
      "count    5333.000000\nmean     2644.842893\nstd       901.563086\nmin      1626.646820\n25%      2143.353457\n50%      2330.917308\n75%      2705.716039\nmax      7939.849605\nName: pkmu_mass, dtype: float64\nLc cleaning 2458\nKmu cleaning 1410\ndata frame length: 1410, FD 90th percentile: 21.22048151099777\n",
      "(array([-1.,  1.]), array([552, 202], dtype=int64))\n"
     ],
     "output_type": "stream"
    }
   ],
   "source": [
    "df_name = 'Lb_data'\n",
    "\n",
    "a = load_data(df_name=df_name)\n",
    "a.dropna(inplace=True)\n",
    "\n",
    "data_frame_lb = reduce_background(a, True)\n",
    "data_frame_lb = data_frame_lb.reset_index(drop=True)\n",
    "data_frame_lb = obtain_lb_line_of_flight(data_frame_lb)\n",
    "data_frame_lb = transverse_momentum(data_frame_lb)\n",
    "data_frame_lb = line_plane_intersection(data_frame_lb)\n",
    "data_frame_lb = tau_momentum_mass(data_frame_lb)\n",
    "data_frame_lb = geometrical_cuts(data_frame_lb)\n",
    "\n",
    "particles_associations = [['Kminus_P', 'K'], ['proton_P', 'proton'], ['mu1_P', 'mu'], ['tauMu_P', 'mu']]\n",
    "data_frame_lb['pkmumu_mass'] = get_mass(data_frame=data_frame_lb, particles_associations=particles_associations)\n",
    "particles_associations = [['Kminus_P', 'K'], ['proton_P', 'proton'], ['mu1_P', 'mu'], ['tau_P', 'tau']]\n",
    "data_frame_lb['pkmutau_mass'] = get_mass(data_frame=data_frame_lb, particles_associations=particles_associations)"
   ],
   "metadata": {
    "collapsed": false,
    "pycharm": {
     "name": "#%%\n",
     "is_executing": false
    }
   }
  },
  {
   "cell_type": "markdown",
   "source": [
    "### Getting background outside of signal region"
   ],
   "metadata": {
    "collapsed": false,
    "pycharm": {
     "name": "#%% md\n"
    }
   }
  },
  {
   "cell_type": "code",
   "execution_count": 17,
   "outputs": [
    {
     "name": "stdout",
     "text": [
      "Left: 2, Right: 34\n",
      "Left: 2 / 400 MeV\nRight: 14 / 2000 MeV\nAverage density: 0.007 / MeV\nExpected background in signal region: 56.37\n"
     ],
     "output_type": "stream"
    },
    {
     "data": {
      "text/plain": "<Figure size 432x360 with 2 Axes>",
      "image/png": "[encoded data removed]"
     },
     "metadata": {
      "needs_background": "light"
     },
     "output_type": "display_data"
    }
   ],
   "source": [
    "B_mass_limits = [4815, 13271]\n",
    "Lb_mass_above_B_mass = 341\n",
    "Lb_mass_limits = [B_mass_limits[0] + Lb_mass_above_B_mass, B_mass_limits[1] + Lb_mass_above_B_mass]\n",
    "\n",
    "def get_and_plot_background_data(df):\n",
    "    background_df = df.loc[\n",
    "        (df.pkmutau_mass < Lb_mass_limits[0]) | (df.pkmutau_mass > Lb_mass_limits[1])\n",
    "    ]\n",
    "\n",
    "    background_counts = f\"Left: {(background_df.pkmutau_mass < Lb_mass_limits[0]).sum()}, Right: {(background_df.pkmutau_mass > Lb_mass_limits[1]).sum()}\"\n",
    "    print(background_counts)\n",
    "\n",
    "    fig, (ax1, ax2) = plt.subplots(2, 1, figsize=(6, 5), sharex='all', sharey='all')\n",
    "    plot_range = (3000, 33000)\n",
    "    ax1.hist(df.pkmutau_mass, bins=100, range=plot_range, label='$\\Lambda_b$ data')\n",
    "    ax1.axvspan(*Lb_mass_limits, color='red', alpha=0.3, label='Signal region\\n($\\pm 2\\sigma$: 2.275 to 97.725 percentiles from B MC data)')\n",
    "    ax2.hist(background_df.pkmutau_mass, bins=100, range=plot_range, label=f'Background Proxy: {background_counts}')\n",
    "    ax1.grid()\n",
    "    ax2.grid()\n",
    "    ax1.legend()\n",
    "    ax2.legend()\n",
    "    ax2.set_xlim(plot_range)\n",
    "    ax2.set_xlabel('$m_{pKmu\\\\tau}$')\n",
    "    plt.tight_layout()\n",
    "    plt.show()\n",
    "    return background_df\n",
    "\n",
    "\n",
    "def find_expected_background_in_signal(df):\n",
    "    background_df = get_and_plot_background_data(df)\n",
    "    bg_mass = background_df.pkmutau_mass\n",
    "    \n",
    "    bin_width = 200\n",
    "    left_bins = 2\n",
    "    right_bins = 10\n",
    "\n",
    "    count_left = ((bg_mass > Lb_mass_limits[0] - left_bins * bin_width) & (bg_mass < Lb_mass_limits[0])).sum()\n",
    "    count_right = ((bg_mass < Lb_mass_limits[1] + right_bins * bin_width) & (bg_mass > Lb_mass_limits[1])).sum()\n",
    "\n",
    "    print(f\"Left: {count_left} / {bin_width * left_bins} MeV\")\n",
    "    print(f\"Right: {count_right} / {bin_width * right_bins} MeV\")\n",
    "    average_density = (count_left + count_right) / ((left_bins + right_bins) * bin_width)\n",
    "    print(f\"Average density: {average_density:.3f} / MeV\")\n",
    "\n",
    "    signal_region_width = Lb_mass_limits[1] - Lb_mass_limits[0]\n",
    "    print(f\"Expected background in signal region: {average_density * signal_region_width:.2f}\")\n",
    "\n",
    "\n",
    "find_expected_background_in_signal(data_frame_lb)\n",
    "B = 56.37"
   ],
   "metadata": {
    "collapsed": false,
    "pycharm": {
     "name": "#%% \n",
     "is_executing": false
    }
   }
  },
  {
   "cell_type": "markdown",
   "source": [
    "### Applying BDT to data\n",
    "We then apply a previously trained BDT on the data."
   ],
   "metadata": {
    "collapsed": false,
    "pycharm": {
     "name": "#%% md\n"
    }
   }
  },
  {
   "cell_type": "code",
   "execution_count": 20,
   "outputs": [
    {
     "name": "stdout",
     "text": [
      "[19:50:00] WARNING: C:\\Users\\Administrator\\workspace\\xgboost-win64_release_1.0.0\\src\\learner.cc:556: Loading model from XGBoost < 1.0.0, consider saving it again for improved compatibility\nTotal remaining: 28\nAfter lb=pKmumu mass cut: 10\nTotal remaining in signal region: 10\nExpected background in signal region: 56.370 (before ML classifier), 0.282 (after ML classifier)\n"
     ],
     "output_type": "stream"
    },
    {
     "data": {
      "text/plain": "<Figure size 432x288 with 1 Axes>",
      "image/png": "[encoded data removed]"
     },
     "metadata": {
      "needs_background": "light"
     },
     "output_type": "display_data"
    },
    {
     "data": {
      "text/plain": "<Figure size 432x288 with 1 Axes>",
      "image/png": "[encoded data removed]"
     },
     "metadata": {
      "needs_background": "light"
     },
     "output_type": "display_data"
    }
   ],
   "source": [
    "import xgboost\n",
    "\n",
    "\n",
    "BDT_COLUMNS = [\n",
    "    'tau_distances_travelled', 'impact_parameter_thingy', 'pKmu_ENDVERTEX_CHI2',\n",
    "    'Lb_pmu_ISOLATION_BDT1', 'proton_IPCHI2_OWNPV', 'Kminus_IPCHI2_OWNPV',\n",
    "    'mu1_IPCHI2_OWNPV', 'tauMu_IPCHI2_OWNPV', 'pKmu_IPCHI2_OWNPV',\n",
    "    'Lb_FDCHI2_OWNPV'\n",
    "]\n",
    "\n",
    "xgb = xgboost.XGBClassifier()\n",
    "xgb.load_model('bdt\\\\classifier_0.pkl')\n",
    "model_x = data_frame_lb.loc[:, BDT_COLUMNS]\n",
    "model_y_pred =  xgb.predict_proba(model_x)[:, 1]\n",
    "model_y_pred_class = model_y_pred > 0.915\n",
    "data_frame_lb = data_frame_lb.loc[model_y_pred_class]\n",
    "\n",
    "\n",
    "print(f\"Total remaining: {len(data_frame_lb)}\")\n",
    "lb_pKmumu_mass_cut_mask = (data_frame_lb.pkmumu_mass > 5660) | (data_frame_lb.pkmumu_mass < 5580)\n",
    "remaining_after_pKmumu_mass_cut = data_frame_lb.loc[lb_pKmumu_mass_cut_mask]\n",
    "print(f\"After lb=pKmumu mass cut: {len(remaining_after_pKmumu_mass_cut)}\")\n",
    "\n",
    "remaining_in_signal_region = remaining_after_pKmumu_mass_cut.loc[(remaining_after_pKmumu_mass_cut.pkmutau_mass > Lb_mass_limits[0]) & (remaining_after_pKmumu_mass_cut.pkmutau_mass < Lb_mass_limits[1])]\n",
    "print(f\"Total remaining in signal region: {len(remaining_in_signal_region)}\")\n",
    "\n",
    "# expected_FPR = 0.012\n",
    "expected_FPR = 0.005\n",
    "print(f\"Expected background in signal region: {B:.3f} (before ML classifier), {B * expected_FPR:.3f} (after ML classifier)\")\n",
    "\n",
    "n, b, p = plt.hist(data_frame['pkmumu_mass'], bins=100, range=[4000, 15000])\n",
    "plt.axvline(5620, c='k')\n",
    "plt.xlabel('$m_{pK\\\\mu\\\\mu}$')\n",
    "plt.ylabel('occurrences')\n",
    "plt.tight_layout()\n",
    "plt.show()\n",
    "\n",
    "plt.hist( data_frame[(data_frame['pkmumu_mass'] < 5620 - 40) | (data_frame['pkmumu_mass'] > 5620 + 40)]['pkmutau_mass'],\n",
    "        bins=100, range=[4000, 15000])\n",
    "plt.axvline(5620, c='k')\n",
    "plt.xlabel('$m_{pK\\\\mu\\\\tau}$')\n",
    "plt.show()"
   ],
   "metadata": {
    "collapsed": false,
    "pycharm": {
     "name": "#%% \n",
     "is_executing": false
    }
   }
  },
  {
   "cell_type": "markdown",
   "source": [
    "### Branching fraction \n",
    "\n",
    "Finally we obtain an upper threshold on the branching fraction from the values above."
   ],
   "metadata": {
    "collapsed": false,
    "pycharm": {
     "name": "#%% md"
    }
   }
  },
  {
   "cell_type": "code",
   "execution_count": 21,
   "outputs": [
    {
     "name": "stdout",
     "text": [
      "Expected background in signal region: 56.370 (before ML classifier), 0.282 (after ML classifier)\n",
      "Max Likelihood: 2.704e-06  (+1.187e-06, -6.302e-07)\nCL 90: 4.208e-06\n"
     ],
     "output_type": "stream"
    },
    {
     "data": {
      "text/plain": "<Figure size 432x216 with 1 Axes>",
      "image/png": "[encoded data removed]"
     },
     "metadata": {
      "needs_background": "light"
     },
     "output_type": "display_data"
    }
   ],
   "source": [
    "import numpy as np\n",
    "import matplotlib.pyplot as plt\n",
    "from matplotlib import ticker\n",
    "from scipy.integrate import simps, cumtrapz\n",
    "from scipy.stats import poisson\n",
    "\n",
    "def calculate_and_plot_branching_fraction(\n",
    "    B: float,\n",
    "    S: float,\n",
    "    model_expected_FPR: float,\n",
    "    model_expected_TPR: float,\n",
    "    sigma: float,\n",
    "    L: float,\n",
    "    n_b_to_Lb: float,\n",
    "    pre_model_efficiency: float\n",
    "):\n",
    "    # brs = np.logspace(-6, -5, base=10, num=3000)\n",
    "    brs = np.linspace(0, 1e-5, 3000)\n",
    "\n",
    "    expected_bg = B * model_expected_FPR\n",
    "    print(f\"Expected background in signal region: {B:.3f} (before ML classifier), {expected_bg:.3f} (after ML classifier)\")\n",
    "\n",
    "    probabilities_of_seen_values = []\n",
    "    probabilities_of_less_than_seen_values = []\n",
    "\n",
    "    total_efficiency = pre_model_efficiency * model_expected_TPR\n",
    "    multiplier = sigma * L * n_b_to_Lb * total_efficiency\n",
    "    for br in brs:\n",
    "        expected_signal_seen = multiplier * br\n",
    "        mu = expected_signal_seen + expected_bg\n",
    "        probability_of_seen_values = poisson.pmf(S, mu)\n",
    "        probabilities_of_seen_values.append(probability_of_seen_values)\n",
    "        probability_of_less_than_seen_values = poisson.cdf(S, mu)\n",
    "        probabilities_of_less_than_seen_values.append(probability_of_less_than_seen_values)\n",
    "\n",
    "    probabilities_of_seen_values = np.array(probabilities_of_seen_values)\n",
    "    probabilities_of_less_than_seen_values = np.array(probabilities_of_less_than_seen_values)\n",
    "\n",
    "    def calculate_cdf(probabilities: np.ndarray, brs):\n",
    "        normalised_probabilities = probabilities / probabilities.max()\n",
    "        area_under_curve = simps(y=normalised_probabilities, x=brs)\n",
    "        cumulative_areas = cumtrapz(y=normalised_probabilities, x=brs, initial=0)\n",
    "        cdf = cumulative_areas / area_under_curve\n",
    "        return cdf\n",
    "\n",
    "    # cdf = calculate_cdf(probabilities_of_seen_values, brs)\n",
    "    for (probabilities, ylabel) in [\n",
    "        (probabilities_of_seen_values, f\"P({S} Events|Br=X)\"),\n",
    "        # (probabilities_of_less_than_seen_values, r\"$\\mathrm{P}(\\leq\" + str(S) + r\" \\  \\mathrm{Events} | \\mathrm{Br}=X )$\"),\n",
    "    ]:\n",
    "        cdf = calculate_cdf(probabilities, brs)\n",
    "        max_likelihood = brs[probabilities.argmax()]\n",
    "        median_likelihood_plus_one_sigma = brs[(cdf > 0.841345).argmax()]\n",
    "        median_likelihood_minus_one_sigma = brs[(cdf > 0.158655).argmax()]\n",
    "        print(f\"Max Likelihood: {max_likelihood:.3e}  (+{median_likelihood_plus_one_sigma - max_likelihood:.3e}, -{max_likelihood - median_likelihood_minus_one_sigma:.3e})\")\n",
    "    \n",
    "        cl_90 = brs[(cdf > 0.9).argmax()]\n",
    "        print(f\"CL 90: {cl_90:.3e}\")\n",
    "\n",
    "        plt.figure(figsize=(6, 3))\n",
    "        ax = plt.gca()\n",
    "        ax.axvline(max_likelihood, color='C2', label=f\"Max Likelihood: {max_likelihood:.3e}\")\n",
    "\n",
    "        ax.plot(brs, probabilities)\n",
    "\n",
    "        brs_mask = brs < cl_90\n",
    "        ax.fill_between(brs, probabilities, where=brs_mask, color='C1', alpha=0.3, facecolor='C1')\n",
    "\n",
    "        ax.axvline(cl_90, color='k', label=f\"90% CL: {cl_90:.3e}\")\n",
    "\n",
    "        base_power = -6\n",
    "        @ticker.FuncFormatter\n",
    "        def formatter(x, pos):\n",
    "            latex_str = f'{x * 10 ** -base_power:.1f}' + r'\\times 10^{' + str(base_power) + '}'\n",
    "            return f'${latex_str}$'\n",
    "        ax.xaxis.set_major_formatter(formatter)\n",
    "\n",
    "        ax.set_xlabel(\"Branching Franction\")\n",
    "        ax.set_ylabel(ylabel)\n",
    "        ax.set_xlim(brs.min(), brs.max())\n",
    "        ax.grid()\n",
    "        ax.legend()\n",
    "        plt.tight_layout()\n",
    "        # plt.savefig(\"br_limit_lessthan.png\", dpi=300)\n",
    "        # plt.savefig(\"br_limit_equal.png\", dpi=300)\n",
    "        plt.savefig(\"br_limits.png\", dpi=300)\n",
    "        plt.show()\n",
    "calculate_and_plot_branching_fraction(\n",
    "    B=56.37,\n",
    "    S=10,\n",
    "    model_expected_FPR=0.005,\n",
    "    model_expected_TPR=0.558,\n",
    "    sigma=280e-6 * 13.5 / 8,\n",
    "    L=4e15,\n",
    "    n_b_to_Lb=0.19,\n",
    "    pre_model_efficiency=7.80055e-5 * 0.23  # Initial cuts * approximate PID cut efficiency (calculated based on effect on J/psi)\n",
    ")"
   ],
   "metadata": {
    "collapsed": false,
    "pycharm": {
     "name": "#%%\n",
     "is_executing": false
    }
   }
  }
 ],
 "metadata": {
  "kernelspec": {
   "display_name": "Python 3",
   "language": "python",
   "name": "python3"
  },
  "language_info": {
   "codemirror_mode": {
    "name": "ipython",
    "version": 2
   },
   "file_extension": ".py",
   "mimetype": "text/x-python",
   "name": "python",
   "nbconvert_exporter": "python",
   "pygments_lexer": "ipython2",
   "version": "2.7.6"
  },
  "pycharm": {
   "stem_cell": {
    "cell_type": "raw",
    "source": [],
    "metadata": {
     "collapsed": false
    }
   }
  }
 },
 "nbformat": 4,
 "nbformat_minor": 0
}