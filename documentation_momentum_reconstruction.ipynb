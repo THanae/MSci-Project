{
 "cells": [
  {
   "cell_type": "markdown",
   "source": [
    "# $\\Lambda_b \\rightarrow pK\\mu\\tau$ documentation: momentum reconstruction"
   ],
   "metadata": {
    "collapsed": false
   }
  },
  {
   "cell_type": "markdown",
   "source": [
    "There are two main parts to our MSci project:\n",
    "1. Reconstructing the tau momentum\n",
    "2. Reducing the background\n",
    "\n",
    "In this notebook I will be talking about the tau momentum reconstruction and in the following I will be talking about background reduction."
   ],
   "metadata": {
    "collapsed": false
   }
  },
  {
   "cell_type": "markdown",
   "source": [
    "## Tau momentum reconstruction\n",
    "The tau momentum was obtained by:\n",
    "1. Finding the $pK\\mu$ transverse momentum relative to the $\\Lambda_b$ line of flight. The $\\tau$ transverse momentum is then the opposite of that value\n",
    "2. Finding the tau decay point, which is the intersection between the tauMu line of flight and the plane defined by the $pK\\mu$ momentum and the $\\Lambda_b$ line of flight\n",
    "3. The $\\tau$ momentum can then be calculated with the magnitude of its transverse momentum and the direction of the $\\tau$ flight\n",
    "\n",
    "Below I will be outlining the main functions used to obtain the tau momentum\n",
    "\n",
    "## Loading the data\n",
    "The data can be loaded by calling the `load data` function. \n",
    "Three types of data sets can be obtained: real data (`Lb_data`), B Monte Carlo data (`B_MC`) and $\\Lambda_b$ Monte Carlo data (`Lb_MC`).\n",
    "We will proceed to clean the data before doing heavy calculations to reduce overall computing time.\n",
    "If you want to see what the data looks like uncleaned, just comment out the `if-elif-else` statements in the cell below.\n"
   ],
   "metadata": {
    "collapsed": false
   }
  },
  {
   "cell_type": "code",
   "execution_count": 1,
   "outputs": [
    {
     "name": "stdout",
     "text": [
      "RangeIndex(start=0, stop=294631, step=1)\n"
     ],
     "output_type": "stream"
    }
   ],
   "source": [
    "from background_reduction.b_MC_reduction import b_cleaning\n",
    "from background_reduction.data_reduction import reduce_background\n",
    "from data.data_loader import load_data\n",
    "df_name = 'Lb_data'\n",
    "\n",
    "data_frame = load_data(df_name=df_name)\n",
    "if df_name == 'Lb_data':\n",
    "    data_frame = reduce_background(data_frame, True)\n",
    "elif df_name == 'B_MC':\n",
    "    data_frame = b_cleaning(data_frame)\n",
    "else:\n",
    "    data_frame = data_frame"
   ],
   "metadata": {
    "collapsed": false,
    "pycharm": {
     "name": "#%%\n",
     "is_executing": false
    }
   }
  },
  {
   "cell_type": "markdown",
   "source": [
    "## Finding the tau  decay point\n",
    "The tau decay point was obtained by \n",
    "1. Defining a plane formed from the $\\Lambda_b$ line of flight and the $pK\\mu$ momentum\n",
    "2. Defining a line of flight for tauMu. This line of flight is obtained from the tauMu reference point and from its momentum\n",
    "3. Finding the intersection between tauMu and the plane. This intersection corresponds to the $\\tau$ decay point and helps us in determining the $\\tau$ line of flight."
   ],
   "metadata": {
    "collapsed": false
   }
  },
  {
   "cell_type": "code",
   "execution_count": null,
   "outputs": [
    {
     "name": "stdout",
     "text": [
      "data frame length: 294631, FD 90th percentile: 37.37454094024642\n"
     ],
     "output_type": "stream"
    }
   ],
   "source": [
    "from get_vertex import obtain_lb_line_of_flight, line_plane_intersection\n",
    "data_frame = obtain_lb_line_of_flight(data_frame)\n",
    "data_frame = line_plane_intersection(data_frame)"
   ],
   "metadata": {
    "collapsed": false,
    "pycharm": {
     "name": "#%%\n",
     "is_executing": true
    }
   }
  },
  {
   "cell_type": "markdown",
   "source": [
    "## Finding the tau momentum\n",
    "The tau momentum could then be obtained by\n",
    "1. Finding the transverse momentum of the $pK\\mu$ particles. The transverse momentum of the $\\tau$ will then just be the opposite of that value\n",
    "2. Finding the angle between the $\\tau$ line of flight and the $\\Lambda_b$ line of flight\n",
    "3. Obtaining the tau momentum from those values."
   ],
   "metadata": {
    "collapsed": false,
    "pycharm": {
     "name": "#%% md\n"
    }
   }
  },
  {
   "cell_type": "code",
   "execution_count": null,
   "outputs": [],
   "source": [
    "from get_vertex import transverse_momentum, tau_momentum_mass\n",
    "data_frame = transverse_momentum(data_frame)\n",
    "data_frame = tau_momentum_mass(data_frame)"
   ],
   "metadata": {
    "collapsed": false,
    "pycharm": {
     "name": "#%%\n",
     "is_executing": true
    }
   }
  },
  {
   "cell_type": "markdown",
   "source": [
    "## Mass plots\n",
    "We can then use the previous data to plot the reconstructed $pK\\mu\\tau$ mass, as well as the $pK\\mu\\mu$ mass. "
   ],
   "metadata": {
    "collapsed": false,
    "pycharm": {
     "name": "#%% md\n"
    }
   }
  },
  {
   "cell_type": "code",
   "execution_count": null,
   "outputs": [],
   "source": [
    "from masses import get_mass\n",
    "import matplotlib.pyplot as plt\n",
    "particles_associations = [['Kminus_P', 'K'], ['proton_P', 'proton'], ['mu1_P', 'mu'], ['tau_P', 'tau']]\n",
    "data_frame['pkmutau_mass'] = get_mass(data_frame=data_frame, particles_associations=particles_associations)\n",
    "particles_associations = [['Kminus_P', 'K'], ['proton_P', 'proton'], ['mu1_P', 'mu'], ['tauMu_P', 'mu']]\n",
    "data_frame['pkmumu_mass'] = get_mass(data_frame=data_frame, particles_associations=particles_associations)\n",
    "\n",
    "plt.figure(figsize=(3.5, 3), dpi=300)\n",
    "plt.hist(data_frame[(data_frame['pkmumu_mass'] < 5620 - 40) | (data_frame['pkmumu_mass'] > 5620 + 40)]['pkmutau_mass'],\n",
    "        bins=100, range=[4000, 30000])\n",
    "plt.xlabel('$m_{pK\\\\mu\\\\tau}$')\n",
    "plt.tight_layout()\n",
    "plt.show()\n",
    "plt.figure(figsize=(3.5, 3), dpi=300)\n",
    "plt.hist(data_frame['pkmumu_mass'], bins=100, range=[4000, 9000])\n",
    "plt.xlabel('$m_{pK\\\\mu\\\\mu}$')\n",
    "plt.tight_layout()\n",
    "plt.show()"
   ],
   "metadata": {
    "collapsed": false,
    "pycharm": {
     "name": "#%%\n"
    }
   }
  }
 ],
 "metadata": {
  "kernelspec": {
   "display_name": "Python 3",
   "language": "python",
   "name": "python3"
  },
  "language_info": {
   "codemirror_mode": {
    "name": "ipython",
    "version": 2
   },
   "file_extension": ".py",
   "mimetype": "text/x-python",
   "name": "python",
   "nbconvert_exporter": "python",
   "pygments_lexer": "ipython2",
   "version": "2.7.6"
  },
  "pycharm": {
   "stem_cell": {
    "cell_type": "raw",
    "source": [],
    "metadata": {
     "collapsed": false
    }
   }
  }
 },
 "nbformat": 4,
 "nbformat_minor": 0
}